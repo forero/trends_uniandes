{
 "cells": [
  {
   "cell_type": "code",
   "execution_count": 19,
   "id": "ab019795-1168-4cf2-a542-4d6f83b6d6da",
   "metadata": {},
   "outputs": [],
   "source": [
    "import pandas as pd\n",
    "import numpy as np\n",
    "import matplotlib.pyplot as plt"
   ]
  },
  {
   "cell_type": "code",
   "execution_count": 29,
   "id": "21894c95-afd0-44c9-9eb0-c31e1da0e6fc",
   "metadata": {},
   "outputs": [
    {
     "data": {
      "text/html": [
       "<div>\n",
       "<style scoped>\n",
       "    .dataframe tbody tr th:only-of-type {\n",
       "        vertical-align: middle;\n",
       "    }\n",
       "\n",
       "    .dataframe tbody tr th {\n",
       "        vertical-align: top;\n",
       "    }\n",
       "\n",
       "    .dataframe thead th {\n",
       "        text-align: right;\n",
       "    }\n",
       "</style>\n",
       "<table border=\"1\" class=\"dataframe\">\n",
       "  <thead>\n",
       "    <tr style=\"text-align: right;\">\n",
       "      <th></th>\n",
       "      <th>Carrera</th>\n",
       "      <th>201710</th>\n",
       "      <th>201720</th>\n",
       "      <th>201810</th>\n",
       "      <th>201820</th>\n",
       "      <th>201910</th>\n",
       "      <th>201920</th>\n",
       "      <th>202010</th>\n",
       "      <th>202020</th>\n",
       "      <th>202110</th>\n",
       "      <th>202120</th>\n",
       "    </tr>\n",
       "  </thead>\n",
       "  <tbody>\n",
       "    <tr>\n",
       "      <th>0</th>\n",
       "      <td>Administracion</td>\n",
       "      <td>985</td>\n",
       "      <td>989</td>\n",
       "      <td>989</td>\n",
       "      <td>1019</td>\n",
       "      <td>1020</td>\n",
       "      <td>1037</td>\n",
       "      <td>1058</td>\n",
       "      <td>1159</td>\n",
       "      <td>1202</td>\n",
       "      <td>1215</td>\n",
       "    </tr>\n",
       "    <tr>\n",
       "      <th>1</th>\n",
       "      <td>Ingenieria Ambiental</td>\n",
       "      <td>416</td>\n",
       "      <td>380</td>\n",
       "      <td>376</td>\n",
       "      <td>357</td>\n",
       "      <td>348</td>\n",
       "      <td>304</td>\n",
       "      <td>267</td>\n",
       "      <td>245</td>\n",
       "      <td>216</td>\n",
       "      <td>187</td>\n",
       "    </tr>\n",
       "    <tr>\n",
       "      <th>2</th>\n",
       "      <td>Ingenieria Electrica</td>\n",
       "      <td>123</td>\n",
       "      <td>113</td>\n",
       "      <td>122</td>\n",
       "      <td>120</td>\n",
       "      <td>115</td>\n",
       "      <td>121</td>\n",
       "      <td>110</td>\n",
       "      <td>99</td>\n",
       "      <td>85</td>\n",
       "      <td>83</td>\n",
       "    </tr>\n",
       "    <tr>\n",
       "      <th>3</th>\n",
       "      <td>Fisica</td>\n",
       "      <td>212</td>\n",
       "      <td>208</td>\n",
       "      <td>208</td>\n",
       "      <td>210</td>\n",
       "      <td>233</td>\n",
       "      <td>242</td>\n",
       "      <td>279</td>\n",
       "      <td>283</td>\n",
       "      <td>326</td>\n",
       "      <td>329</td>\n",
       "    </tr>\n",
       "    <tr>\n",
       "      <th>4</th>\n",
       "      <td>Diseno</td>\n",
       "      <td>761</td>\n",
       "      <td>751</td>\n",
       "      <td>761</td>\n",
       "      <td>765</td>\n",
       "      <td>781</td>\n",
       "      <td>793</td>\n",
       "      <td>795</td>\n",
       "      <td>812</td>\n",
       "      <td>833</td>\n",
       "      <td>828</td>\n",
       "    </tr>\n",
       "  </tbody>\n",
       "</table>\n",
       "</div>"
      ],
      "text/plain": [
       "                Carrera  201710  201720  201810  201820  201910  201920  \\\n",
       "0        Administracion     985     989     989    1019    1020    1037   \n",
       "1  Ingenieria Ambiental     416     380     376     357     348     304   \n",
       "2  Ingenieria Electrica     123     113     122     120     115     121   \n",
       "3                Fisica     212     208     208     210     233     242   \n",
       "4                Diseno     761     751     761     765     781     793   \n",
       "\n",
       "   202010  202020  202110  202120  \n",
       "0    1058    1159    1202    1215  \n",
       "1     267     245     216     187  \n",
       "2     110      99      85      83  \n",
       "3     279     283     326     329  \n",
       "4     795     812     833     828  "
      ]
     },
     "execution_count": 29,
     "metadata": {},
     "output_type": "execute_result"
    }
   ],
   "source": [
    "data = pd.read_csv(\"../data/estudiantes_pregrado.csv\")\n",
    "data"
   ]
  },
  {
   "cell_type": "code",
   "execution_count": 104,
   "id": "3b1684df-c325-4b38-84cb-4e0ba4b1ebed",
   "metadata": {},
   "outputs": [
    {
     "data": {
      "text/plain": [
       "<matplotlib.collections.PathCollection at 0x12b2dd9a0>"
      ]
     },
     "execution_count": 104,
     "metadata": {},
     "output_type": "execute_result"
    },
    {
     "data": {
      "image/png": "[encoded data removed]",
      "text/plain": [
       "<Figure size 640x480 with 1 Axes>"
      ]
     },
     "metadata": {},
     "output_type": "display_data"
    }
   ],
   "source": [
    "y = np.array(data.iloc[2][-9:])\n",
    "x = np.arange(len(y))\n",
    "plt.scatter(x,y)"
   ]
  },
  {
   "cell_type": "code",
   "execution_count": 96,
   "id": "b7c8d799-75d6-4f69-a385-022c498bcddb",
   "metadata": {},
   "outputs": [],
   "source": [
    "def find_a_from_data(x, y):\n",
    "    a, b, c = np.polyfit(x, y, 2)\n",
    "    return a\n",
    "\n",
    "def new_data_from_jackknife(x, y):\n",
    "    n = len(x)\n",
    "    ids = np.arange(n)\n",
    "    new_ids = np.random.choice(ids, size=n)\n",
    "    return x[new_ids], y[new_ids]\n",
    "\n",
    "def estimate_a_with_uncertainty(x, y, N_iterations=10):\n",
    "    a_values = np.zeros(N_iterations)\n",
    "    for i in range(N_iterations):\n",
    "        new_x, new_y = new_data_from_jackknife(x, y)\n",
    "        a_values[i] = find_a_from_data(new_x, new_y)\n",
    "    return a_values.mean(), a_values.std()"
   ]
  },
  {
   "cell_type": "code",
   "execution_count": 100,
   "id": "d6797772-e8e2-44da-9b7e-fb825a1435fd",
   "metadata": {},
   "outputs": [
    {
     "name": "stdout",
     "output_type": "stream",
     "text": [
      "Administracion 2.9573325427984645 3.579640965564578\n",
      "Ingenieria Ambiental -1.666876094218578 1.0095477708141654\n",
      "Ingenieria Electrica -1.243158449692975 0.3540654969458448\n",
      "Fisica 1.3488370604120576 0.47352314887236896\n",
      "Diseno 0.11453117442131869 0.2694023180810896\n"
     ]
    }
   ],
   "source": [
    "for i in range(5):\n",
    "    y = np.array(np.float_(data.iloc[i][-9:]))\n",
    "    x = np.arange(len(y))*1.0\n",
    "    a, sigma_a = estimate_a_with_uncertainty(x, y)\n",
    "    print(data.iloc[i][0], a, sigma_a)"
   ]
  },
  {
   "cell_type": "code",
   "execution_count": null,
   "id": "7873be7c-aa7c-4e3d-ad2a-dc8e2f31f637",
   "metadata": {},
   "outputs": [],
   "source": []
  }
 ],
 "metadata": {
  "kernelspec": {
   "display_name": "Python 3 (ipykernel)",
   "language": "python",
   "name": "python3"
  },
  "language_info": {
   "codemirror_mode": {
    "name": "ipython",
    "version": 3
   },
   "file_extension": ".py",
   "mimetype": "text/x-python",
   "name": "python",
   "nbconvert_exporter": "python",
   "pygments_lexer": "ipython3",
   "version": "3.8.13"
  }
 },
 "nbformat": 4,
 "nbformat_minor": 5
}
